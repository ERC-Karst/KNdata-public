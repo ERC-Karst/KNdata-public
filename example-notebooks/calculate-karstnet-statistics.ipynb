{
 "cells": [
  {
   "cell_type": "code",
   "execution_count": null,
   "metadata": {},
   "outputs": [],
   "source": [
    "import karstnet as kn\n",
    "\n",
    "#load graph into a karstnet object\n",
    "Kg = kn.from_nxGraph(G, dict(G.nodes('pos')), properties=None, verbose=True)\n",
    "\n",
    "#print results and analysis\n",
    "results = Kg.characterize_graph( verbose=True )\n",
    "analysis = Kg.basic_analysis()\n",
    "\n",
    "#plot the graph and simplified graph\n",
    "fig1 = Kg.plot()\n",
    "\n",
    "#plot the stereo plot\n",
    "fig2 = Kg.stereo()"
   ]
  }
 ],
 "metadata": {
  "language_info": {
   "name": "python"
  }
 },
 "nbformat": 4,
 "nbformat_minor": 2
}
