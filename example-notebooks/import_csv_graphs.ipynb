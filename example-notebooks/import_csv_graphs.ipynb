{
 "cells": [
  {
   "cell_type": "markdown",
   "metadata": {},
   "source": [
    "# Example code to import karst network graph data from csv files"
   ]
  },
  {
   "cell_type": "code",
   "execution_count": null,
   "metadata": {},
   "outputs": [],
   "source": [
    "\n",
    "import networkx as nx\n",
    "import pandas as pd\n",
    "import networkx as nx\n",
    "import os\n",
    "\n",
    "# clone https://github.com/ERC-Karst/KNtools and 'pip install e .' inside the main folder\n",
    "import kntools as kt\n"
   ]
  },
  {
   "cell_type": "markdown",
   "metadata": {},
   "source": [
    "## 0. Choose which cave to import:\n",
    "you can find the list of cave in the caves_properties_summary.csv and png visualization in the figures folder. Any cave number starting with the letter C or S is not opendata and a data request from the members of the ERC-Karst project can be sent to celia.trunz@unine.ch\n"
   ]
  },
  {
   "cell_type": "code",
   "execution_count": 2,
   "metadata": {},
   "outputs": [],
   "source": [
    "#change number and corresponding cave name\n",
    "number = '001'\n",
    "cavename = 'GouffreDejaVu'\n"
   ]
  },
  {
   "cell_type": "markdown",
   "metadata": {},
   "source": [
    "## 1. Load data from .csv files"
   ]
  },
  {
   "cell_type": "code",
   "execution_count": 3,
   "metadata": {},
   "outputs": [],
   "source": [
    "# define the path to the folder containing the csv files\n",
    "#change input path if necessary. if notebook is run in the original repository, then this should work\n",
    "csvfolder_path = f'../data/{number}_{cavename}/clean_data/clean_graph_csv/'"
   ]
  },
  {
   "cell_type": "markdown",
   "metadata": {},
   "source": [
    "### 1.1 load only the edges\n",
    "For example, if you want to work only with the graph topology, without any node attributes (such as coordinates or conduit geometry)"
   ]
  },
  {
   "cell_type": "code",
   "execution_count": 4,
   "metadata": {},
   "outputs": [],
   "source": [
    "#load csv data (this could be done with something else than pandas) \n",
    "df_edge = pd.read_csv(os.path.join(csvfolder_path, f'{cavename}_edges.csv'), delimiter=';')\n",
    "\n",
    "# Initiate graph object\n",
    "G = nx.Graph()\n",
    "\n",
    "# add edges to graph from the dataframe\n",
    "G.add_edges_from(zip(df_edge.from_id,df_edge.to_id))\n"
   ]
  },
  {
   "cell_type": "markdown",
   "metadata": {},
   "source": [
    "### 1.2 add some edges attributes, if there is any"
   ]
  },
  {
   "cell_type": "code",
   "execution_count": 5,
   "metadata": {},
   "outputs": [
    {
     "name": "stdout",
     "output_type": "stream",
     "text": [
      "There is no flags on edges to add\n"
     ]
    }
   ],
   "source": [
    "#create a dictionnary formated the right way to import as edge attributes\n",
    "# this need to be a dictionnary with tuple of edge data as keys, and the flag(s) a\n",
    "path_to_edge_flags = os.path.join(csvfolder_path, f'{cavename}_edge_flags.csv')\n",
    "if os.path.exists(path_to_edge_flags)==True:\n",
    "    df_edge_flag = pd.read_csv(path_to_edge_flags, delimiter=';')\n",
    "    dict_edge_flag = kt.list2dict(list(zip(df_edge_flag.from_id,df_edge_flag.to_id)),df_edge_flag.flag)\n",
    "    nx.set_edge_attributes(G, dict_edge_flag,'flags')\n",
    "\n",
    "else:\n",
    "    print('There is no flags on edges to add')\n",
    "\n"
   ]
  },
  {
   "cell_type": "markdown",
   "metadata": {},
   "source": [
    "### 1.3 add some node attributes\n",
    "The node attributes 'pos', 'fulladdress', and 'idsql' always exist in the repository,\n",
    "while 'flags', 'splays', 'csdim', 'splays' depend on whether or not the information exists for each cave.\n",
    "\n",
    "This is an example of attributes that can be added to the graph. \n",
    "To load all the attributes, use the function `kt.load_clean_graph_csv`"
   ]
  },
  {
   "cell_type": "code",
   "execution_count": 6,
   "metadata": {},
   "outputs": [
    {
     "name": "stdout",
     "output_type": "stream",
     "text": [
      "adding node position\n",
      "adding conduit width and height on nodes\n",
      "there is no node flags to add\n",
      "adding splays on nodes\n"
     ]
    }
   ],
   "source": [
    "# add positions (x,y,z)\n",
    "print('adding node position')\n",
    "df_node_pos = pd.read_csv(os.path.join(csvfolder_path, f'{cavename}_node_pos.csv'), delimiter=';')\n",
    "dict_node_pos = dict(zip(df_node_pos.id,zip(df_node_pos.x,df_node_pos.y,df_node_pos.z))) \n",
    "nx.set_node_attributes(G,dict_node_pos,'pos')  \n",
    "\n",
    "# add node dimensions (width, height)\n",
    "if os.path.exists(os.path.join(csvfolder_path, f'{cavename}_node_csdim.csv'))==True:\n",
    "    print('adding conduit width and height on nodes')\n",
    "    df_node_csdim = pd.read_csv(os.path.join(csvfolder_path, f'{cavename}_node_csdim.csv'), delimiter=';')\n",
    "    dict_node_csdim = dict(zip(df_node_csdim.id,zip(df_node_csdim.cswidth,df_node_csdim.csheight)))  \n",
    "    nx.set_node_attributes(G,dict_node_csdim,'csdim') \n",
    "else:\n",
    "    print('there is no node dimensions to add')\n",
    "\n",
    "# # add node flags\n",
    "if os.path.exists(os.path.join(csvfolder_path, f'{cavename}_node_flags.csv'))==True:\n",
    "    print('adding flags on nodes')\n",
    "    df_node_flags = pd.read_csv(os.path.join(csvfolder_path,  f'{cavename}_node_flags.csv'), delimiter=';')\n",
    "    dict_node_flags = kt.list2dict(df_node_flags.id,df_node_flags.flag) \n",
    "    nx.set_node_attributes(G,dict_node_flags,'flags')\n",
    "else:\n",
    "    print('there is no node flags to add') \n",
    "\n",
    "# # add list of splays attached to node in the form of [x,y,z] at the point touching the wall\n",
    "if os.path.exists(os.path.join(csvfolder_path, f'{cavename}_node_splays.csv'))==True:\n",
    "    print('adding splays on nodes')\n",
    "    df_node_splays = pd.read_csv(os.path.join(csvfolder_path,  f'{cavename}_node_splays.csv'), delimiter=';')\n",
    "    dict_node_splays = kt.list2dict(df_node_splays.id,list(zip(df_node_splays.x,df_node_splays.y,df_node_splays.z))) \n",
    "    nx.set_node_attributes(G,dict_node_splays,'splays') \n",
    "else:\n",
    "    print('there is no node splays to add')\n"
   ]
  },
  {
   "cell_type": "markdown",
   "metadata": {},
   "source": [
    "## 2. Load all the data from .csv files with one function\n"
   ]
  },
  {
   "cell_type": "code",
   "execution_count": 7,
   "metadata": {},
   "outputs": [
    {
     "name": "stdout",
     "output_type": "stream",
     "text": [
      "loading GouffreDejaVu_edges.csv\n",
      "loading GouffreDejaVu_node_csdim.csv\n",
      "loading GouffreDejaVu_node_fulladdress.csv\n",
      "loading GouffreDejaVu_node_idsql.csv\n",
      "loading GouffreDejaVu_node_pos.csv\n",
      "loading GouffreDejaVu_node_splays.csv\n"
     ]
    }
   ],
   "source": [
    "\n",
    "#LOAD CAVE GRAPH\n",
    "H = kt.load_clean_graph_csv(csvfolder_path)\n",
    "# it is possible to choose which attribute to add with a list of string \n",
    "# ex: kt.load_clean_graph_csv(csvfolder_path, \n",
    "#                             node_attributes=['pos','csdim','flags','fulladdress','idsql','splays','comments'],\n",
    "#                             edge_attributes=['flags'])\n",
    "# if they exist they will be added to the graph\n"
   ]
  },
  {
   "cell_type": "code",
   "execution_count": null,
   "metadata": {},
   "outputs": [
    {
     "data": {
      "image/png": "[encoded data removed]",
      "text/plain": [
       "<Figure size 640x480 with 1 Axes>"
      ]
     },
     "metadata": {},
     "output_type": "display_data"
    }
   ],
   "source": [
    "#BASIC PLOT IN PLAN VIEW FROM NETWORKX\n",
    "\n",
    "#example to display the data\n",
    "nx.draw(G,pos=kt.get_pos2d(G), node_size=1)\n",
    "\n"
   ]
  }
 ],
 "metadata": {
  "kernelspec": {
   "display_name": "kntools",
   "language": "python",
   "name": "python3"
  },
  "language_info": {
   "codemirror_mode": {
    "name": "ipython",
    "version": 3
   },
   "file_extension": ".py",
   "mimetype": "text/x-python",
   "name": "python",
   "nbconvert_exporter": "python",
   "pygments_lexer": "ipython3",
   "version": "3.13.2"
  }
 },
 "nbformat": 4,
 "nbformat_minor": 2
}
