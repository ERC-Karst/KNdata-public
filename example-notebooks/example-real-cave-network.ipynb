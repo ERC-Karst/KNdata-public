{
 "cells": [
  {
   "cell_type": "code",
   "execution_count": null,
   "metadata": {},
   "outputs": [],
   "source": [
    "#example to access the attributes:\n",
    "nx.get_node_attributes(G,'pos')\n",
    "\n",
    "nx.draw(G,get_pos2d(G),node_size=5)"
   ]
  },
  {
   "cell_type": "code",
   "execution_count": null,
   "metadata": {},
   "outputs": [],
   "source": [
    "#how to get the dictionnary of values attached to the graph:\n",
    "\n",
    "# get a list of all the dictionnaries that exists:\n",
    "print(get_nodes_attributes(G))\n",
    "\n",
    "#extract values into a dictionnary. Key are the node id.\n",
    "nx.get_node_attributes(G,'pos')"
   ]
  },
  {
   "cell_type": "code",
   "execution_count": null,
   "metadata": {},
   "outputs": [],
   "source": [
    "#some other way to look into the object graph networkx\n",
    "G.__dict__"
   ]
  },
  {
   "cell_type": "code",
   "execution_count": null,
   "metadata": {},
   "outputs": [],
   "source": [
    "#PLOT WITH WEIGHTED NODE GEOMETRY\n",
    "node_sizes = []\n",
    "labels = {}\n",
    "for n in G.nodes:\n",
    "    if G.nodes('csdim')[n] is not None:\n",
    "        node_sizes.append( nx.get_node_attributes(G,'csdim')[n][0]*1 )\n",
    "    else:\n",
    "        node_sizes.append( 0.0 )\n",
    "\n",
    "plt.figure()\n",
    "ax = plt.gca()\n",
    "ax.set_title(cavename, loc='left',ha='left', wrap=True )\n",
    "nx.draw(G,get_pos2d(G),node_size=node_sizes ,with_labels=False, node_color='red', ax=ax)"
   ]
  }
 ],
 "metadata": {
  "language_info": {
   "name": "python"
  }
 },
 "nbformat": 4,
 "nbformat_minor": 2
}
