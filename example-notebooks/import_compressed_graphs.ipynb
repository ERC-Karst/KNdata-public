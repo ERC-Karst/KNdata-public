{
 "cells": [
  {
   "cell_type": "code",
   "execution_count": 2,
   "metadata": {},
   "outputs": [],
   "source": [
    "import pickle\n",
    "import os\n",
    "import networkx as nx"
   ]
  },
  {
   "cell_type": "markdown",
   "metadata": {},
   "source": [
    "## Choose your cave"
   ]
  },
  {
   "cell_type": "code",
   "execution_count": 3,
   "metadata": {},
   "outputs": [],
   "source": [
    "#choose which graph to import\n",
    "cavename = 'GouffreDejaVu'\n",
    "\n",
    "\n",
    "#-------------------------------\n",
    "\n",
    "list_folder = os.listdir('../data')\n",
    "#find automatically the number associated with the cavename\n",
    "number = [item.split('_')[0] for item in list_folder if cavename in item][0]"
   ]
  },
  {
   "cell_type": "markdown",
   "metadata": {},
   "source": [
    "## Load graph with pickle file\n",
    "The pickled graph contains all the data attached to the edges and can be heavy for large caves. \n",
    "\n",
    "If you are only intersted in the edges information, without the node position or other node attributes, then it is recommanded to use the sparse6 import.\n",
    "\n",
    "If you are interested in only certain attributes, then it is recommanded to use the .csv import tutorial\n"
   ]
  },
  {
   "cell_type": "code",
   "execution_count": 4,
   "metadata": {},
   "outputs": [],
   "source": [
    "path_to_pickle = f'../data/{number}_{cavename}/clean_data/Graph_{cavename}.pickle'\n",
    "G = pickle.load(open(path_to_pickle, 'rb'))"
   ]
  },
  {
   "cell_type": "markdown",
   "metadata": {},
   "source": [
    "## Load graph with sparse 6 file\n",
    "The sparse 6 graph file contains only the edge information, with no attributes.\n",
    "This is a simpler load version. Attributes can be added afterwards with the csv files (see tutorial)"
   ]
  },
  {
   "cell_type": "code",
   "execution_count": 5,
   "metadata": {},
   "outputs": [],
   "source": [
    "path_to_sparse6 = f'../data/{number}_{cavename}/clean_data/Graph_{cavename}.s6'\n",
    "G = nx.read_sparse6(path_to_sparse6)"
   ]
  },
  {
   "cell_type": "code",
   "execution_count": null,
   "metadata": {},
   "outputs": [],
   "source": []
  }
 ],
 "metadata": {
  "kernelspec": {
   "display_name": "kntools",
   "language": "python",
   "name": "python3"
  },
  "language_info": {
   "codemirror_mode": {
    "name": "ipython",
    "version": 3
   },
   "file_extension": ".py",
   "mimetype": "text/x-python",
   "name": "python",
   "nbconvert_exporter": "python",
   "pygments_lexer": "ipython3",
   "version": "3.13.2"
  }
 },
 "nbformat": 4,
 "nbformat_minor": 2
}
